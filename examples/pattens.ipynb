{
 "cells": [
  {
   "cell_type": "code",
   "execution_count": 1,
   "metadata": {
    "pycharm": {
     "name": "#%%\n"
    }
   },
   "outputs": [],
   "source": [
    "%load_ext autoreload\n",
    "%autoreload 2\n",
    "import numpy as np\n",
    "import aspect_based_sentiment_analysis as absa"
   ]
  },
  {
   "cell_type": "code",
   "execution_count": 18,
   "metadata": {
    "pycharm": {
     "name": "#%%\n"
    }
   },
   "outputs": [],
   "source": [
    "recognizer = absa.aux_models.BasicPatternRecognizer()\n",
    "nlp = absa.load('absa/classifier-rest-0.1', pattern_recognizer=recognizer)\n",
    "text = ('We are great fans of Slack, but we wish the subscriptions ' \n",
    "        'were more accessible to small startups.')\n",
    "completed_task = nlp(text, aspects=['slack', 'price'])\n",
    "[slack, price] = completed_task.examples"
   ]
  },
  {
   "cell_type": "code",
   "execution_count": 46,
   "metadata": {
    "pycharm": {
     "name": "#%%\n"
    }
   },
   "outputs": [
    {
     "name": "stdout",
     "output_type": "stream",
     "text": [
      "Sentiment.positive for \"slack\"\n",
      "Scores (neutral/negative/positive): [0.019 0.035 0.947]\n"
     ]
    },
    {
     "data": {
      "text/plain": "<IPython.core.display.HTML object>",
      "text/html": "<span style=\"background-color:rgba(180,180,180,1.1111111111111112);\">Importance 1.00</span> <span style=\"background-color:rgba(135,206,250,0.35000000000000003);\">we</span> <span style=\"background-color:rgba(135,206,250,0.4125);\">are</span> <span style=\"background-color:rgba(135,206,250,1.25);\">great</span> <span style=\"background-color:rgba(135,206,250,1.2374999999999998);\">fans</span> <span style=\"background-color:rgba(135,206,250,0.27499999999999997);\">of</span> <span style=\"background-color:rgba(135,206,250,1.25);\">slack</span> <span style=\"background-color:rgba(135,206,250,0.13749999999999998);\">,</span> <span style=\"background-color:rgba(135,206,250,0.26249999999999996);\">but</span> <span style=\"background-color:rgba(135,206,250,0.0625);\">we</span> <span style=\"background-color:rgba(135,206,250,0.13749999999999998);\">wish</span> <span style=\"background-color:rgba(135,206,250,0.049999999999999996);\">the</span> <span style=\"background-color:rgba(135,206,250,0.09999999999999999);\">subscriptions</span> <span style=\"background-color:rgba(135,206,250,0.049999999999999996);\">were</span> <span style=\"background-color:rgba(135,206,250,0.075);\">more</span> <span style=\"background-color:rgba(135,206,250,0.08750000000000001);\">accessible</span> <span style=\"background-color:rgba(135,206,250,0.049999999999999996);\">to</span> <span style=\"background-color:rgba(135,206,250,0.049999999999999996);\">small</span> <span style=\"background-color:rgba(135,206,250,0.11249999999999999);\">startups</span> <span style=\"background-color:rgba(135,206,250,0.13749999999999998);\">.</span><br> <span style=\"background-color:rgba(180,180,180,1.0444444444444443);\">Importance 0.94</span> <span style=\"background-color:rgba(135,206,250,0.3375);\">we</span> <span style=\"background-color:rgba(135,206,250,0.35000000000000003);\">are</span> <span style=\"background-color:rgba(135,206,250,0.6124999999999999);\">great</span> <span style=\"background-color:rgba(135,206,250,1.1749999999999998);\">fans</span> <span style=\"background-color:rgba(135,206,250,0.37499999999999994);\">of</span> <span style=\"background-color:rgba(135,206,250,1.1749999999999998);\">slack</span> <span style=\"background-color:rgba(135,206,250,0.125);\">,</span> <span style=\"background-color:rgba(135,206,250,0.27499999999999997);\">but</span> <span style=\"background-color:rgba(135,206,250,0.075);\">we</span> <span style=\"background-color:rgba(135,206,250,0.08750000000000001);\">wish</span> <span style=\"background-color:rgba(135,206,250,0.075);\">the</span> <span style=\"background-color:rgba(135,206,250,0.19999999999999998);\">subscriptions</span> <span style=\"background-color:rgba(135,206,250,0.049999999999999996);\">were</span> <span style=\"background-color:rgba(135,206,250,0.125);\">more</span> <span style=\"background-color:rgba(135,206,250,0.09999999999999999);\">accessible</span> <span style=\"background-color:rgba(135,206,250,0.049999999999999996);\">to</span> <span style=\"background-color:rgba(135,206,250,0.049999999999999996);\">small</span> <span style=\"background-color:rgba(135,206,250,0.1625);\">startups</span> <span style=\"background-color:rgba(135,206,250,0.11249999999999999);\">.</span><br> <span style=\"background-color:rgba(180,180,180,0.8111111111111111);\">Importance 0.73</span> <span style=\"background-color:rgba(135,206,250,0.25);\">we</span> <span style=\"background-color:rgba(135,206,250,0.125);\">are</span> <span style=\"background-color:rgba(135,206,250,0.3125);\">great</span> <span style=\"background-color:rgba(135,206,250,0.9125);\">fans</span> <span style=\"background-color:rgba(135,206,250,0.8125);\">of</span> <span style=\"background-color:rgba(135,206,250,0.9125);\">slack</span> <span style=\"background-color:rgba(135,206,250,0.39999999999999997);\">,</span> <span style=\"background-color:rgba(135,206,250,0.25);\">but</span> <span style=\"background-color:rgba(135,206,250,0.11249999999999999);\">we</span> <span style=\"background-color:rgba(135,206,250,0.11249999999999999);\">wish</span> <span style=\"background-color:rgba(135,206,250,0.18749999999999997);\">the</span> <span style=\"background-color:rgba(135,206,250,0.325);\">subscriptions</span> <span style=\"background-color:rgba(135,206,250,0.075);\">were</span> <span style=\"background-color:rgba(135,206,250,0.0625);\">more</span> <span style=\"background-color:rgba(135,206,250,0.15);\">accessible</span> <span style=\"background-color:rgba(135,206,250,0.075);\">to</span> <span style=\"background-color:rgba(135,206,250,0.08750000000000001);\">small</span> <span style=\"background-color:rgba(135,206,250,0.27499999999999997);\">startups</span> <span style=\"background-color:rgba(135,206,250,0.26249999999999996);\">.</span><br> <span style=\"background-color:rgba(180,180,180,0.7111111111111111);\">Importance 0.64</span> <span style=\"background-color:rgba(135,206,250,0.22499999999999998);\">we</span> <span style=\"background-color:rgba(135,206,250,0.19999999999999998);\">are</span> <span style=\"background-color:rgba(135,206,250,0.6124999999999999);\">great</span> <span style=\"background-color:rgba(135,206,250,0.5499999999999999);\">fans</span> <span style=\"background-color:rgba(135,206,250,0.26249999999999996);\">of</span> <span style=\"background-color:rgba(135,206,250,0.5125);\">slack</span> <span style=\"background-color:rgba(135,206,250,0.3125);\">,</span> <span style=\"background-color:rgba(135,206,250,0.7999999999999999);\">but</span> <span style=\"background-color:rgba(135,206,250,0.27499999999999997);\">we</span> <span style=\"background-color:rgba(135,206,250,0.7249999999999999);\">wish</span> <span style=\"background-color:rgba(135,206,250,0.19999999999999998);\">the</span> <span style=\"background-color:rgba(135,206,250,0.2375);\">subscriptions</span> <span style=\"background-color:rgba(135,206,250,0.18749999999999997);\">were</span> <span style=\"background-color:rgba(135,206,250,0.3375);\">more</span> <span style=\"background-color:rgba(135,206,250,0.13749999999999998);\">accessible</span> <span style=\"background-color:rgba(135,206,250,0.15);\">to</span> <span style=\"background-color:rgba(135,206,250,0.11249999999999999);\">small</span> <span style=\"background-color:rgba(135,206,250,0.2375);\">startups</span> <span style=\"background-color:rgba(135,206,250,0.3);\">.</span><br> <span style=\"background-color:rgba(180,180,180,0.6777777777777777);\">Importance 0.61</span> <span style=\"background-color:rgba(135,206,250,0.11249999999999999);\">we</span> <span style=\"background-color:rgba(135,206,250,0.08750000000000001);\">are</span> <span style=\"background-color:rgba(135,206,250,0.13749999999999998);\">great</span> <span style=\"background-color:rgba(135,206,250,0.11249999999999999);\">fans</span> <span style=\"background-color:rgba(135,206,250,0.0625);\">of</span> <span style=\"background-color:rgba(135,206,250,0.2125);\">slack</span> <span style=\"background-color:rgba(135,206,250,0.1625);\">,</span> <span style=\"background-color:rgba(135,206,250,0.35000000000000003);\">but</span> <span style=\"background-color:rgba(135,206,250,0.13749999999999998);\">we</span> <span style=\"background-color:rgba(135,206,250,0.18749999999999997);\">wish</span> <span style=\"background-color:rgba(135,206,250,0.09999999999999999);\">the</span> <span style=\"background-color:rgba(135,206,250,0.17500000000000002);\">subscriptions</span> <span style=\"background-color:rgba(135,206,250,0.13749999999999998);\">were</span> <span style=\"background-color:rgba(135,206,250,0.075);\">more</span> <span style=\"background-color:rgba(135,206,250,0.13749999999999998);\">accessible</span> <span style=\"background-color:rgba(135,206,250,0.125);\">to</span> <span style=\"background-color:rgba(135,206,250,0.125);\">small</span> <span style=\"background-color:rgba(135,206,250,0.425);\">startups</span> <span style=\"background-color:rgba(135,206,250,0.7625);\">.</span><br>"
     },
     "metadata": {},
     "output_type": "display_data"
    }
   ],
   "source": [
    "print(f'{str(slack.sentiment)} for \"{slack.aspect}\"')\n",
    "print(f'Scores (neutral/negative/positive): {np.round(slack.scores, decimals=3)}')\n",
    "absa.display(slack.review)"
   ]
  },
  {
   "cell_type": "code",
   "execution_count": 47,
   "metadata": {
    "pycharm": {
     "name": "#%%\n"
    }
   },
   "outputs": [
    {
     "name": "stdout",
     "output_type": "stream",
     "text": [
      "Sentiment.negative for \"price\"\n",
      "Scores (neutral/negative/positive): [0.089 0.569 0.342]\n"
     ]
    },
    {
     "data": {
      "text/plain": "<IPython.core.display.HTML object>",
      "text/html": "<span style=\"background-color:rgba(180,180,180,1.1111111111111112);\">Importance 1.00</span> <span style=\"background-color:rgba(135,206,250,0.075);\">we</span> <span style=\"background-color:rgba(135,206,250,0.1625);\">are</span> <span style=\"background-color:rgba(135,206,250,0.325);\">great</span> <span style=\"background-color:rgba(135,206,250,0.09999999999999999);\">fans</span> <span style=\"background-color:rgba(135,206,250,0.049999999999999996);\">of</span> <span style=\"background-color:rgba(135,206,250,0.0625);\">slack</span> <span style=\"background-color:rgba(135,206,250,0.11249999999999999);\">,</span> <span style=\"background-color:rgba(135,206,250,0.46249999999999997);\">but</span> <span style=\"background-color:rgba(135,206,250,0.2875);\">we</span> <span style=\"background-color:rgba(135,206,250,1.25);\">wish</span> <span style=\"background-color:rgba(135,206,250,0.35000000000000003);\">the</span> <span style=\"background-color:rgba(135,206,250,0.26249999999999996);\">subscriptions</span> <span style=\"background-color:rgba(135,206,250,0.5249999999999999);\">were</span> <span style=\"background-color:rgba(135,206,250,0.8375);\">more</span> <span style=\"background-color:rgba(135,206,250,0.25);\">accessible</span> <span style=\"background-color:rgba(135,206,250,0.325);\">to</span> <span style=\"background-color:rgba(135,206,250,0.13749999999999998);\">small</span> <span style=\"background-color:rgba(135,206,250,0.27499999999999997);\">startups</span> <span style=\"background-color:rgba(135,206,250,0.22499999999999998);\">.</span><br> <span style=\"background-color:rgba(180,180,180,0.7666666666666666);\">Importance 0.69</span> <span style=\"background-color:rgba(135,206,250,0.35000000000000003);\">we</span> <span style=\"background-color:rgba(135,206,250,0.27499999999999997);\">are</span> <span style=\"background-color:rgba(135,206,250,0.8624999999999999);\">great</span> <span style=\"background-color:rgba(135,206,250,0.8624999999999999);\">fans</span> <span style=\"background-color:rgba(135,206,250,0.1625);\">of</span> <span style=\"background-color:rgba(135,206,250,0.18749999999999997);\">slack</span> <span style=\"background-color:rgba(135,206,250,0.09999999999999999);\">,</span> <span style=\"background-color:rgba(135,206,250,0.15);\">but</span> <span style=\"background-color:rgba(135,206,250,0.0625);\">we</span> <span style=\"background-color:rgba(135,206,250,0.1625);\">wish</span> <span style=\"background-color:rgba(135,206,250,0.0375);\">the</span> <span style=\"background-color:rgba(135,206,250,0.11249999999999999);\">subscriptions</span> <span style=\"background-color:rgba(135,206,250,0.0375);\">were</span> <span style=\"background-color:rgba(135,206,250,0.13749999999999998);\">more</span> <span style=\"background-color:rgba(135,206,250,0.0375);\">accessible</span> <span style=\"background-color:rgba(135,206,250,0.024999999999999998);\">to</span> <span style=\"background-color:rgba(135,206,250,0.024999999999999998);\">small</span> <span style=\"background-color:rgba(135,206,250,0.11249999999999999);\">startups</span> <span style=\"background-color:rgba(135,206,250,0.11249999999999999);\">.</span><br> <span style=\"background-color:rgba(180,180,180,0.5888888888888889);\">Importance 0.53</span> <span style=\"background-color:rgba(135,206,250,0.18749999999999997);\">we</span> <span style=\"background-color:rgba(135,206,250,0.18749999999999997);\">are</span> <span style=\"background-color:rgba(135,206,250,0.5);\">great</span> <span style=\"background-color:rgba(135,206,250,0.38749999999999996);\">fans</span> <span style=\"background-color:rgba(135,206,250,0.13749999999999998);\">of</span> <span style=\"background-color:rgba(135,206,250,0.15);\">slack</span> <span style=\"background-color:rgba(135,206,250,0.18749999999999997);\">,</span> <span style=\"background-color:rgba(135,206,250,0.6625);\">but</span> <span style=\"background-color:rgba(135,206,250,0.17500000000000002);\">we</span> <span style=\"background-color:rgba(135,206,250,0.6625);\">wish</span> <span style=\"background-color:rgba(135,206,250,0.125);\">the</span> <span style=\"background-color:rgba(135,206,250,0.15);\">subscriptions</span> <span style=\"background-color:rgba(135,206,250,0.1625);\">were</span> <span style=\"background-color:rgba(135,206,250,0.26249999999999996);\">more</span> <span style=\"background-color:rgba(135,206,250,0.0625);\">accessible</span> <span style=\"background-color:rgba(135,206,250,0.08750000000000001);\">to</span> <span style=\"background-color:rgba(135,206,250,0.0625);\">small</span> <span style=\"background-color:rgba(135,206,250,0.15);\">startups</span> <span style=\"background-color:rgba(135,206,250,0.125);\">.</span><br> <span style=\"background-color:rgba(180,180,180,0.4666666666666666);\">Importance 0.42</span> <span style=\"background-color:rgba(135,206,250,0.012499999999999999);\">we</span> <span style=\"background-color:rgba(135,206,250,0.0375);\">are</span> <span style=\"background-color:rgba(135,206,250,0.1625);\">great</span> <span style=\"background-color:rgba(135,206,250,0.0375);\">fans</span> <span style=\"background-color:rgba(135,206,250,0.012499999999999999);\">of</span> <span style=\"background-color:rgba(135,206,250,0.012499999999999999);\">slack</span> <span style=\"background-color:rgba(135,206,250,0.012499999999999999);\">,</span> <span style=\"background-color:rgba(135,206,250,0.075);\">but</span> <span style=\"background-color:rgba(135,206,250,0.012499999999999999);\">we</span> <span style=\"background-color:rgba(135,206,250,0.5249999999999999);\">wish</span> <span style=\"background-color:rgba(135,206,250,0.0625);\">the</span> <span style=\"background-color:rgba(135,206,250,0.1625);\">subscriptions</span> <span style=\"background-color:rgba(135,206,250,0.26249999999999996);\">were</span> <span style=\"background-color:rgba(135,206,250,0.5249999999999999);\">more</span> <span style=\"background-color:rgba(135,206,250,0.2875);\">accessible</span> <span style=\"background-color:rgba(135,206,250,0.18749999999999997);\">to</span> <span style=\"background-color:rgba(135,206,250,0.075);\">small</span> <span style=\"background-color:rgba(135,206,250,0.11249999999999999);\">startups</span> <span style=\"background-color:rgba(135,206,250,0.11249999999999999);\">.</span><br> <span style=\"background-color:rgba(180,180,180,0.4111111111111111);\">Importance 0.37</span> <span style=\"background-color:rgba(135,206,250,0.44999999999999996);\">we</span> <span style=\"background-color:rgba(135,206,250,0.3375);\">are</span> <span style=\"background-color:rgba(135,206,250,0.46249999999999997);\">great</span> <span style=\"background-color:rgba(135,206,250,0.46249999999999997);\">fans</span> <span style=\"background-color:rgba(135,206,250,0.35000000000000003);\">of</span> <span style=\"background-color:rgba(135,206,250,0.38749999999999996);\">slack</span> <span style=\"background-color:rgba(135,206,250,0.1625);\">,</span> <span style=\"background-color:rgba(135,206,250,0.2125);\">but</span> <span style=\"background-color:rgba(135,206,250,0.09999999999999999);\">we</span> <span style=\"background-color:rgba(135,206,250,0.09999999999999999);\">wish</span> <span style=\"background-color:rgba(135,206,250,0.08750000000000001);\">the</span> <span style=\"background-color:rgba(135,206,250,0.2375);\">subscriptions</span> <span style=\"background-color:rgba(135,206,250,0.0625);\">were</span> <span style=\"background-color:rgba(135,206,250,0.075);\">more</span> <span style=\"background-color:rgba(135,206,250,0.09999999999999999);\">accessible</span> <span style=\"background-color:rgba(135,206,250,0.0375);\">to</span> <span style=\"background-color:rgba(135,206,250,0.049999999999999996);\">small</span> <span style=\"background-color:rgba(135,206,250,0.22499999999999998);\">startups</span> <span style=\"background-color:rgba(135,206,250,0.15);\">.</span><br>"
     },
     "metadata": {},
     "output_type": "display_data"
    }
   ],
   "source": [
    "scores = np.round(price.scores, decimals=3)\n",
    "print(f'{str(price.sentiment)} for \"{price.aspect}\"')\n",
    "print(f'Scores (neutral/negative/positive): {np.round(price.scores, decimals=3)}')\n",
    "absa.display(price.review)"
   ]
  }
 ],
 "metadata": {
  "kernelspec": {
   "display_name": "Python 3",
   "language": "python",
   "name": "python3"
  },
  "language_info": {
   "codemirror_mode": {
    "name": "ipython",
    "version": 3
   },
   "file_extension": ".py",
   "mimetype": "text/x-python",
   "name": "python",
   "nbconvert_exporter": "python",
   "pygments_lexer": "ipython3",
   "version": "3.7.9"
  }
 },
 "nbformat": 4,
 "nbformat_minor": 1
}